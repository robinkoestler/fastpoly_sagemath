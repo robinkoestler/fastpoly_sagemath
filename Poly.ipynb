{
 "cells": [
  {
   "cell_type": "code",
   "execution_count": 281,
   "id": "3dd946e0-4314-4707-b0e4-503394269e90",
   "metadata": {},
   "outputs": [],
   "source": [
    "from sage.libs.ntl import *\n",
    "\n",
    "class Poly:\n",
    "    @classmethod\n",
    "    def setup(cls, N=N, modulus=None):\n",
    "        cls.N = N\n",
    "        cls.modulus = 0 if modulus is None else modulus\n",
    "        \n",
    "    @classmethod\n",
    "    def random(cls):\n",
    "        assert hasattr(cls, 'N'), \"Poly.setup() must be called first\"\n",
    "        \n",
    "    \n",
    "    def __init__(self, coeffs, modulus=None):\n",
    "        \n",
    "        if modulus and self.modulus != 0:\n",
    "            assert modulus == self.modulus, f\"Modulus mismatch {modulus} != {self.modulus}\"\n",
    "        \n",
    "        # we initialize the NTL module, either ZZX or ZZ_pX\n",
    "        self.ntl_module = ntl.ZZX if modulus is None else lambda x: ntl.ZZ_pX(x, modulus)\n",
    "        \n",
    "        if isinstance(coeffs, list):\n",
    "            assert len(coeffs) <= self.N\n",
    "            self.c = self.ntl_module(coeffs)\n",
    "        else:\n",
    "            self.c = coeffs\n",
    "    \n",
    "    def __mod__(self, modulus):\n",
    "        self.modulus = modulus\n",
    "        if modulus == 0:\n",
    "            return ntl.ZZX(self.c)\n",
    "        else:\n",
    "            return ntl.ZZ_pX(self.c, modulus)\n",
    "\n",
    "            \n",
    "    def __repr__(self) -> str:\n",
    "        return str(self.c)\n",
    "    \n",
    "    def __add__(self, other):\n",
    "        return self.c + other.c\n",
    "\n",
    "    def __iadd__(self, other):\n",
    "        self.c += other.c\n",
    "        return self\n",
    "    \n",
    "    def __sub__(self, other):\n",
    "        return self.c - other.c\n",
    "    \n",
    "    def __isub__(self, other):\n",
    "        self.c -= other.c\n",
    "        return self\n",
    "\n",
    "    def __neg__(self):\n",
    "        return -self.c\n",
    "    \n",
    "    def __mul__(self, other):\n",
    "        product = self.c * other.c\n",
    "        return Poly(product.truncate(self.N) - product.left_shift(-self.N))"
   ]
  },
  {
   "cell_type": "code",
   "execution_count": 282,
   "id": "41420958-d671-4397-ad02-8822fb8abdd1",
   "metadata": {},
   "outputs": [
    {
     "ename": "AssertionError",
     "evalue": "Poly.setup() must be called first",
     "output_type": "error",
     "traceback": [
      "\u001b[0;31m---------------------------------------------------------------------------\u001b[0m",
      "\u001b[0;31mAssertionError\u001b[0m                            Traceback (most recent call last)",
      "Cell \u001b[0;32mIn [282], line 3\u001b[0m\n\u001b[1;32m      1\u001b[0m N \u001b[38;5;241m=\u001b[39m Integer(\u001b[38;5;241m4\u001b[39m)\n\u001b[1;32m      2\u001b[0m Q \u001b[38;5;241m=\u001b[39m next_prime(Integer(\u001b[38;5;241m2\u001b[39m)\u001b[38;5;241m*\u001b[39m\u001b[38;5;241m*\u001b[39mInteger(\u001b[38;5;241m10\u001b[39m))\n\u001b[0;32m----> 3\u001b[0m \u001b[43mPoly\u001b[49m\u001b[38;5;241;43m.\u001b[39;49m\u001b[43mrandom\u001b[49m\u001b[43m(\u001b[49m\u001b[43m)\u001b[49m\n\u001b[1;32m      4\u001b[0m Poly\u001b[38;5;241m.\u001b[39msetup(N, Q)\n\u001b[1;32m      5\u001b[0m a \u001b[38;5;241m=\u001b[39m Poly([Integer(\u001b[38;5;241m1\u001b[39m),Integer(\u001b[38;5;241m2\u001b[39m),Integer(\u001b[38;5;241m3\u001b[39m),Integer(\u001b[38;5;241m4\u001b[39m)], Q)\n",
      "Cell \u001b[0;32mIn [281], line 11\u001b[0m, in \u001b[0;36mPoly.random\u001b[0;34m(cls)\u001b[0m\n\u001b[1;32m      9\u001b[0m \u001b[38;5;129m@classmethod\u001b[39m\n\u001b[1;32m     10\u001b[0m \u001b[38;5;28;01mdef\u001b[39;00m \u001b[38;5;21mrandom\u001b[39m(\u001b[38;5;28mcls\u001b[39m):\n\u001b[0;32m---> 11\u001b[0m     \u001b[38;5;28;01massert\u001b[39;00m \u001b[38;5;28mhasattr\u001b[39m(\u001b[38;5;28mcls\u001b[39m, \u001b[38;5;124m'\u001b[39m\u001b[38;5;124mN\u001b[39m\u001b[38;5;124m'\u001b[39m), \u001b[38;5;124m\"\u001b[39m\u001b[38;5;124mPoly.setup() must be called first\u001b[39m\u001b[38;5;124m\"\u001b[39m\n",
      "\u001b[0;31mAssertionError\u001b[0m: Poly.setup() must be called first"
     ]
    }
   ],
   "source": [
    "N = 4\n",
    "Q = next_prime(2**10)\n",
    "Poly.setup(N, Q)\n",
    "a = Poly([1,2,3,4], Q)\n",
    "print(a)\n",
    "b = Poly([1,2,3,4], Q)\n",
    "c = a * b\n",
    "print(Poly(a) % 4)"
   ]
  },
  {
   "cell_type": "code",
   "execution_count": 273,
   "id": "a8d6aaeb",
   "metadata": {},
   "outputs": [],
   "source": [
    "N = 2**15\n",
    "Q = 2**1000\n",
    "Qx = next_prime(Q)\n",
    "Poly.setup(N, Qx)\n",
    "\n"
   ]
  }
 ],
 "metadata": {
  "kernelspec": {
   "display_name": "SageMath 10.2",
   "language": "sage",
   "name": "sagemath-10.2"
  },
  "language_info": {
   "codemirror_mode": {
    "name": "ipython",
    "version": 3
   },
   "file_extension": ".py",
   "mimetype": "text/x-python",
   "name": "python",
   "nbconvert_exporter": "python",
   "pygments_lexer": "ipython3",
   "version": "3.11.1"
  }
 },
 "nbformat": 4,
 "nbformat_minor": 5
}
